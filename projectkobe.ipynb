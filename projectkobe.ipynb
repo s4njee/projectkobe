{
 "cells": [
  {
   "cell_type": "markdown",
   "id": "59c24976-d711-4144-b14f-d2fb63dee7c8",
   "metadata": {},
   "source": [
    "# Install Mamba\n",
    "\n",
    "https://github.com/conda-forge/miniforge#mambaforge\n",
    "\n",
    "# Install JupyterLab and PySpark\n",
    "\n",
    "After cloning this git repo, you can recreate this environment by running the following commands\n",
    "  \n",
    "    mamba create -n projectkobe jupyterlab -c conda-forge\n",
    "    mamba activate projectkobe\n",
    "    mamba install openjdk pyspark findspark\n",
    "    jupyter lab\n"
   ]
  },
  {
   "cell_type": "markdown",
   "id": "dc52bb27-1f63-4160-88f6-9a8fd2e971a1",
   "metadata": {},
   "source": [
    "# Start PySpark Context"
   ]
  },
  {
   "cell_type": "code",
   "execution_count": 1,
   "id": "93280ac3-5f79-4485-b163-3d17d5a99f1c",
   "metadata": {},
   "outputs": [
    {
     "name": "stdout",
     "output_type": "stream",
     "text": [
      "22/10/05 20:39:57 WARN Utils: Your hostname, Sanjees-MacBook-Pro.local resolves to a loopback address: 127.0.0.1; using 192.168.0.215 instead (on interface en0)\n",
      "22/10/05 20:39:57 WARN Utils: Set SPARK_LOCAL_IP if you need to bind to another address\n"
     ]
    },
    {
     "name": "stderr",
     "output_type": "stream",
     "text": [
      "Setting default log level to \"WARN\".\n",
      "To adjust logging level use sc.setLogLevel(newLevel). For SparkR, use setLogLevel(newLevel).\n"
     ]
    },
    {
     "name": "stdout",
     "output_type": "stream",
     "text": [
      "22/10/05 20:39:58 WARN NativeCodeLoader: Unable to load native-hadoop library for your platform... using builtin-java classes where applicable\n"
     ]
    }
   ],
   "source": [
    "import findspark\n",
    "findspark.init()\n",
    "\n",
    "import pyspark\n",
    "sc = pyspark.SparkContext(appName=\"projectKobe\")"
   ]
  },
  {
   "cell_type": "markdown",
   "id": "449404e1-6f8f-4069-9ece-f6f38be0e3ea",
   "metadata": {},
   "source": [
    "# Download NBA Data (JSON Format)\n",
    "\n",
    "https://drive.google.com/file/d/1wPqikhwb9psAClb08IMhBr0-m9Iev87t/view?usp=sharing"
   ]
  },
  {
   "cell_type": "markdown",
   "id": "2d1c5f00-a32a-45f6-b383-0425b6398772",
   "metadata": {},
   "source": [
    "# Load JSON File"
   ]
  },
  {
   "cell_type": "code",
   "execution_count": 15,
   "id": "98fab500-1fe1-44a5-96f0-6718d08ec368",
   "metadata": {},
   "outputs": [
    {
     "name": "stderr",
     "output_type": "stream",
     "text": [
      "[Stage 12:==========================================>              (9 + 3) / 12]\r"
     ]
    },
    {
     "name": "stdout",
     "output_type": "stream",
     "text": [
      "root\n",
      " |-- _corrupt_record: string (nullable = true)\n",
      " |-- age: string (nullable = true)\n",
      " |-- ast: string (nullable = true)\n",
      " |-- blk: string (nullable = true)\n",
      " |-- date: string (nullable = true)\n",
      " |-- drb: string (nullable = true)\n",
      " |-- fg: string (nullable = true)\n",
      " |-- fg3: string (nullable = true)\n",
      " |-- fg3_pct: string (nullable = true)\n",
      " |-- fg3a: string (nullable = true)\n",
      " |-- fg_pct: string (nullable = true)\n",
      " |-- fga: string (nullable = true)\n",
      " |-- ft: string (nullable = true)\n",
      " |-- ft_pct: string (nullable = true)\n",
      " |-- fta: string (nullable = true)\n",
      " |-- game_location: string (nullable = true)\n",
      " |-- game_result: string (nullable = true)\n",
      " |-- game_score: string (nullable = true)\n",
      " |-- gs: string (nullable = true)\n",
      " |-- mp: string (nullable = true)\n",
      " |-- name: string (nullable = true)\n",
      " |-- opp_id: string (nullable = true)\n",
      " |-- orb: string (nullable = true)\n",
      " |-- pf: string (nullable = true)\n",
      " |-- pts: string (nullable = true)\n",
      " |-- stl: string (nullable = true)\n",
      " |-- tm: string (nullable = true)\n",
      " |-- tov: string (nullable = true)\n",
      " |-- trb: string (nullable = true)\n",
      "\n",
      "+--------------------+------+----+----+----------+----+----+----+-------+----+------+----+----+------+----+-------------+-----------+----------+----+-----+--------------+------+----+----+----+----+----+----+----+\n",
      "|     _corrupt_record|   age| ast| blk|      date| drb|  fg| fg3|fg3_pct|fg3a|fg_pct| fga|  ft|ft_pct| fta|game_location|game_result|game_score|  gs|   mp|          name|opp_id| orb|  pf| pts| stl|  tm| tov| trb|\n",
      "+--------------------+------+----+----+----------+----+----+----+-------+----+------+----+----+------+----+-------------+-----------+----------+----+-----+--------------+------+----+----+----+----+----+----+----+\n",
      "|items.json\u0000\u0000\u0000\u0000\u0000\u0000\u0000...|  null|null|null|      null|null|null|null|   null|null|  null|null|null|  null|null|         null|       null|      null|null| null|          null|  null|null|null|null|null|null|null|null|\n",
      "|                null|26-139|   0|   0|1994-11-10|   0|   0|   0|   null|   0|  null|   0|   0|  null|   0|         null|    L (-20)|       0.0|   0| 3:00|Alaa_Abdelnaby|   POR|   0|   0|   0|   0| SAC|   0|   0|\n",
      "|                null|26-158|   0|   2|1994-11-29|   4|   6|   0|   null|   0|  .750|   8|   0|  null|   0|            @|     W (+5)|       9.2|   0|20:00|Alaa_Abdelnaby|   MIA|   2|   4|  12|   0| SAC|   2|   6|\n",
      "|                null|26-159|   0|   0|1994-11-30|   4|   4|   0|   null|   0|  .444|   9|   0|  null|   0|            @|     L (-7)|       0.8|   0|12:00|Alaa_Abdelnaby|   ORL|   1|   6|   8|   1| SAC|   3|   5|\n",
      "|                null|26-161|   0|   0|1994-12-02|   1|   1|   0|   null|   0|  .500|   2|   0|  null|   0|            @|     L (-3)|       1.3|   0| 1:00|Alaa_Abdelnaby|   PHI|   0|   0|   2|   1| SAC|   1|   1|\n",
      "|                null|26-162|   0|   0|1994-12-03|   1|   5|   0|   null|   0|  .556|   9|   0|  null|   0|            @|     W (+5)|       5.5|   0|16:00|Alaa_Abdelnaby|   NJN|   1|   3|  10|   1| SAC|   1|   2|\n",
      "|                null|26-165|   0|   1|1994-12-06|   1|   4|   0|   null|   0|  .571|   7|   0|  .000|   2|         null|    W (+13)|       4.1|   0|16:00|Alaa_Abdelnaby|   MIL|   2|   3|   8|   1| SAC|   2|   3|\n",
      "|                null|26-167|   0|   1|1994-12-08|   0|   1|   0|   null|   0| 1.000|   1|   2| 1.000|   2|         null|    W (+12)|       3.0|   0| 3:00|Alaa_Abdelnaby|   SEA|   0|   1|   4|   0| SAC|   1|   0|\n",
      "|                null|26-169|   0|   0|1994-12-10|   1|   1|   0|   null|   0| 1.000|   1|   0|  null|   0|         null|    W (+12)|       1.2|   0| 3:00|Alaa_Abdelnaby|   GSW|   0|   2|   2|   0| SAC|   0|   1|\n",
      "|                null|26-170|   0|   0|1994-12-11|   0|   2|   0|   null|   0| 1.000|   2|   1|  .500|   2|            @|     L (-5)|       2.8|   0| 5:00|Alaa_Abdelnaby|   POR|   0|   3|   5|   0| SAC|   0|   0|\n",
      "|                null|26-172|   0|   0|1994-12-13|   2|   1|   0|   null|   0|  .500|   2|   0|  null|   0|            @|     W (+5)|       0.8|   0| 5:00|Alaa_Abdelnaby|   GSW|   0|   2|   2|   0| SAC|   0|   2|\n",
      "|                null|26-174|   0|   0|1994-12-15|   0|   1|   0|   null|   0|  .500|   2|   0|  null|   0|         null|    L (-10)|       0.6|   0| 4:00|Alaa_Abdelnaby|   NYK|   0|   1|   2|   0| SAC|   0|   0|\n",
      "|                null|26-176|   1|   0|1994-12-17|   2|   1|   0|   .000|   1|  .500|   2|   0|  null|   0|            @|    L (-11)|       1.1|   0| 9:00|Alaa_Abdelnaby|   PHO|   0|   3|   2|   0| SAC|   0|   2|\n",
      "|                null|26-181|   2|   0|1994-12-22|   1|   4|   0|   null|   0|  .571|   7|   2|  .500|   4|         null|    W (+20)|       6.5|   0|12:00|Alaa_Abdelnaby|   MIN|   1|   2|  10|   0| SAC|   1|   2|\n",
      "|                null|26-182|   0|   0|1994-12-23|   1|   2|   0|   null|   0|  .500|   4|   0|  null|   0|            @|    L (-11)|       3.0|   0| 6:00|Alaa_Abdelnaby|   LAL|   1|   0|   4|   0| SAC|   0|   2|\n",
      "|                null|26-185|   0|   1|1994-12-26|   4|   1|   0|   null|   0|  .125|   8|   1|  .500|   2|            @|    L (-20)|      -0.7|   0|13:00|Alaa_Abdelnaby|   SEA|   2|   1|   3|   0| SAC|   1|   6|\n",
      "|                null|26-186|   0|   0|1994-12-27|   2|   4|   0|   null|   0|  .800|   5|   0|  null|   0|         null|     W (+1)|       4.5|   0|11:00|Alaa_Abdelnaby|   POR|   0|   3|   8|   0| SAC|   1|   2|\n",
      "|                null|26-189|   0|   0|1994-12-30|   0|   5|   0|   null|   0|  .833|   6|   0|  null|   0|         null|     W (+3)|       6.7|   0|10:00|Alaa_Abdelnaby|   PHI|   1|   2|  10|   0| SAC|   1|   1|\n",
      "|                null|26-193|   1|   0|1995-01-03|   0|   0|   0|   null|   0|  .000|   1|   0|  null|   0|         null|     L (-8)|      -0.8|   0| 3:00|Alaa_Abdelnaby|   PHO|   0|   2|   0|   0| SAC|   0|   0|\n",
      "|                null|26-195|   0|   0|1995-01-05|   2|   3|   0|   null|   0|  .500|   6|   4| 1.000|   4|         null|     W (+6)|       4.6|   0|11:00|Alaa_Abdelnaby|   DET|   2|   1|  10|   0| SAC|   4|   4|\n",
      "+--------------------+------+----+----+----------+----+----+----+-------+----+------+----+----+------+----+-------------+-----------+----------+----+-----+--------------+------+----+----+----+----+----+----+----+\n",
      "only showing top 20 rows\n",
      "\n"
     ]
    },
    {
     "name": "stderr",
     "output_type": "stream",
     "text": [
      "                                                                                \r"
     ]
    }
   ],
   "source": [
    "from pyspark.sql import SQLContext\n",
    "sqlContext = SQLContext(sc)\n",
    "df = sqlContext.read.json(\"nbadata.json\")\n",
    "df.printSchema()\n",
    "df.show()"
   ]
  },
  {
   "cell_type": "markdown",
   "id": "9734762d-803c-455f-8b0d-b55e8a53f61e",
   "metadata": {},
   "source": [
    "# Filter by player name"
   ]
  },
  {
   "cell_type": "code",
   "execution_count": 17,
   "id": "2d836c19-3e6f-4dd4-b716-aa82b4caa24d",
   "metadata": {},
   "outputs": [],
   "source": [
    "df = df.drop('_corrupt_record')\n",
    "df = df.filter(df[\"name\"] == \"Kobe_Bryant\")"
   ]
  },
  {
   "cell_type": "markdown",
   "id": "870cdaf5-1167-441c-aeb4-41122a40cde9",
   "metadata": {},
   "source": [
    "# Sort by age"
   ]
  },
  {
   "cell_type": "code",
   "execution_count": 22,
   "id": "97cef45d-377c-4d73-b58a-d6191e8852ad",
   "metadata": {},
   "outputs": [
    {
     "name": "stdout",
     "output_type": "stream",
     "text": [
      "+------+----+----+----------+----+----+----+-------+----+------+----+----+------+----+-------------+-----------+----------+----+-----+-----------+------+----+----+----+----+---+----+----+\n",
      "|   age| ast| blk|      date| drb|  fg| fg3|fg3_pct|fg3a|fg_pct| fga|  ft|ft_pct| fta|game_location|game_result|game_score|  gs|   mp|       name|opp_id| orb|  pf| pts| stl| tm| tov| trb|\n",
      "+------+----+----+----------+----+----+----+-------+----+------+----+----+------+----+-------------+-----------+----------+----+-----+-----------+------+----+----+----+----+---+----+----+\n",
      "|18-070|null|null|1996-11-01|null|null|null|   null|null|  null|null|null|  null|null|         null|    W (+14)|      null|null| null|Kobe_Bryant|   PHO|null|null|null|null|LAL|null|null|\n",
      "|18-072|   0|   1|1996-11-03|   1|   0|   0|   null|   0|  .000|   1|   0|  null|   0|         null|     W (+6)|      -1.1|   0| 6:22|Kobe_Bryant|   MIN|   0|   1|   0|   0|LAL|   1|   1|\n",
      "|18-074|   0|   0|1996-11-05|   0|   0|   0|   null|   0|  .000|   1|   1|  .500|   2|            @|     W (+6)|      -1.1|   0| 3:16|Kobe_Bryant|   NYK|   0|   0|   1|   0|LAL|   1|   0|\n",
      "|18-075|   0|   0|1996-11-06|   0|   2|   1|   .500|   2|  .667|   3|   0|  null|   0|            @|    L (-10)|       0.7|   0| 6:49|Kobe_Bryant|   CHH|   0|   0|   5|   0|LAL|   3|   0|\n",
      "|18-077|   0|   1|1996-11-08|   3|   3|   2|   .667|   3|  .375|   8|   2|  .500|   4|            @|     L (-1)|       5.2|   0|17:15|Kobe_Bryant|   TOR|   0|   3|  10|   0|LAL|   0|   3|\n",
      "|18-079|   1|   0|1996-11-10|   2|   0|   0|   null|   0|  .000|   3|   2| 1.000|   2|         null|     W (+7)|       1.9|   0| 8:25|Kobe_Bryant|   ATL|   1|   0|   2|   0|LAL|   0|   3|\n",
      "|18-081|   0|   0|1996-11-12|   1|   1|   0|   .000|   1|  .500|   2|   0|  null|   0|            @|    W (+11)|      -0.7|   0| 5:03|Kobe_Bryant|   HOU|   0|   0|   2|   0|LAL|   2|   1|\n",
      "|18-082|   0|   0|1996-11-13|   0|   2|   1|  1.000|   1| 1.000|   2|   1| 1.000|   1|            @|    L (-12)|       5.6|   0| 6:06|Kobe_Bryant|   SAS|   0|   2|   6|   1|LAL|   0|   0|\n",
      "|18-084|   0|   0|1996-11-15|   0|   1|   0|   .000|   2|  .250|   4|   2|  .667|   3|         null|     W (+7)|      -1.4|   0| 7:01|Kobe_Bryant|   LAC|   0|   4|   4|   0|LAL|   1|   0|\n",
      "|18-086|   2|   0|1996-11-17|   0|   5|   4|   .667|   6|  .625|   8|   2| 1.000|   2|            @|    W (+14)|      10.4|   0|14:29|Kobe_Bryant|   PHO|   2|   2|  16|   0|LAL|   4|   2|\n",
      "|18-088|   1|   0|1996-11-19|   2|   0|   0|   .000|   1|  .000|   2|   3|  .750|   4|            @|     W (+3)|       0.7|   0| 7:47|Kobe_Bryant|   GSW|   0|   2|   3|   0|LAL|   1|   2|\n",
      "|18-089|   1|   1|1996-11-20|   1|   4|   3|  1.000|   3|  .800|   5|   0|  null|   0|         null|    L (-16)|       8.4|   0|20:32|Kobe_Bryant|   UTA|   0|   1|  11|   0|LAL|   2|   1|\n",
      "|18-091|null|null|1996-11-22|null|null|null|   null|null|  null|null|null|  null|null|         null|    W (+10)|      null|null| null|Kobe_Bryant|   SAS|null|null|null|null|LAL|null|null|\n",
      "|18-093|null|null|1996-11-24|null|null|null|   null|null|  null|null|null|  null|null|         null|     L (-5)|      null|null| null|Kobe_Bryant|   HOU|null|null|null|null|LAL|null|null|\n",
      "|18-095|   1|   0|1996-11-26|   1|   4|   2|   .400|   5|  .400|  10|   2| 1.000|   2|            @|    W (+12)|       4.2|   0|20:52|Kobe_Bryant|   PHI|   0|   1|  12|   0|LAL|   3|   1|\n",
      "|18-096|   1|   1|1996-11-27|   3|   1|   0|   .000|   3|  .143|   7|   0|  null|   0|            @|    L (-16)|      -2.7|   0|19:33|Kobe_Bryant|   BOS|   1|   3|   2|   0|LAL|   2|   4|\n",
      "|18-098|   0|   1|1996-11-29|   0|   0|   0|   null|   0|  .000|   1|   1|  .500|   2|            @|     W (+8)|       0.9|   0| 6:35|Kobe_Bryant|   DET|   1|   1|   1|   0|LAL|   0|   1|\n",
      "|18-100|   0|   0|1996-12-01|   1|   1|   0|   null|   0|  .500|   2|   0|  null|   0|         null|     W (+8)|       0.3|   0| 2:41|Kobe_Bryant|   DEN|   0|   0|   2|   0|LAL|   1|   1|\n",
      "|18-102|null|null|1996-12-03|null|null|null|   null|null|  null|null|null|  null|null|         null|     W (+4)|      null|null| null|Kobe_Bryant|   SEA|null|null|null|null|LAL|null|null|\n",
      "|18-103|   2|   0|1996-12-04|   2|   2|   0|   null|   0|  .333|   6|   4|  .667|   6|            @|    L (-26)|       5.1|   0|13:24|Kobe_Bryant|   UTA|   1|   1|   8|   0|LAL|   1|   3|\n",
      "+------+----+----+----------+----+----+----+-------+----+------+----+----+------+----+-------------+-----------+----------+----+-----+-----------+------+----+----+----+----+---+----+----+\n",
      "only showing top 20 rows\n",
      "\n"
     ]
    }
   ],
   "source": [
    "df.sort(asc('age')).show()"
   ]
  },
  {
   "cell_type": "markdown",
   "id": "008759d0-4a95-419f-a3ca-54be572db102",
   "metadata": {},
   "source": [
    "# Sort by PTS"
   ]
  },
  {
   "cell_type": "code",
   "execution_count": 24,
   "id": "e513fcb8-d6f8-44a3-ac4a-68973ec714a1",
   "metadata": {},
   "outputs": [
    {
     "name": "stdout",
     "output_type": "stream",
     "text": [
      "+------+---+---+----------+---+---+---+-------+----+------+---+---+------+---+-------------+-----------+----------+---+-----+-----------+------+---+---+---+---+---+---+---+\n",
      "|   age|ast|blk|      date|drb| fg|fg3|fg3_pct|fg3a|fg_pct|fga| ft|ft_pct|fta|game_location|game_result|game_score| gs|   mp|       name|opp_id|orb| pf|pts|stl| tm|tov|trb|\n",
      "+------+---+---+----------+---+---+---+-------+----+------+---+---+------+---+-------------+-----------+----------+---+-----+-----------+------+---+---+---+---+---+---+---+\n",
      "|27-152|  2|  1|2006-01-22|  4| 28|  7|   .538|  13|  .609| 46| 18|  .900| 20|         null|    W (+18)|      63.5|  1|41:56|Kobe_Bryant|   TOR|  2|  1| 81|  3|LAL|  3|  6|\n",
      "|28-205|  3|  0|2007-03-16|  6| 23|  8|   .667|  12|  .590| 39| 11|  .917| 12|         null|     W (+5)|      50.9|  1|49:58|Kobe_Bryant|   POR|  1|  3| 65|  3|LAL|  2|  7|\n",
      "|27-119|  0|  0|2005-12-20|  5| 18|  4|   .400|  10|  .581| 31| 22|  .880| 25|         null|    W (+22)|      49.7|  1|32:53|Kobe_Bryant|   DAL|  3|  3| 62|  3|LAL|  2|  8|\n",
      "|30-163|  3|  1|2009-02-02|  0| 19|  3|   .500|   6|  .613| 31| 20| 1.000| 20|            @|     W (+9)|      47.3|  1|36:48|Kobe_Bryant|   NYK|  0|  1| 61|  0|LAL|  2|  0|\n",
      "|37-234|  4|  1|2016-04-13|  4| 22|  6|   .286|  21|  .440| 50| 10|  .833| 12|         null|     W (+5)|      36.3|  1|42:09|Kobe_Bryant|   UTA|  0|  1| 60|  1|LAL|  2|  4|\n",
      "|28-211|  4|  0|2007-03-22|  3| 20|  3|   .429|   7|  .541| 37| 17|  .944| 18|            @|     W (+2)|      43.2|  1|45:11|Kobe_Bryant|   MEM|  2|  4| 60|  0|LAL|  2|  5|\n",
      "|28-128|  4|  0|2006-12-29|  5| 22|  4|   .364|  11|  .489| 45| 10|  .833| 12|            @|     L (-9)|      32.4|  1|54:28|Kobe_Bryant|   CHA|  0|  6| 58|  0|LAL|  4|  5|\n",
      "|23-144|  4|  0|2002-01-14|  2| 21|  3|   .500|   6|  .618| 34| 11|  .917| 12|         null|    W (+39)|      46.3|  1|34:16|Kobe_Bryant|   MEM|  3|  1| 56|  1|LAL|  0|  5|\n",
      "|24-217|  3|  0|2003-03-28|  5| 15|  9|   .692|  13|  .517| 29| 16|  .889| 18|         null|    W (+14)|      41.5|  1|41:23|Kobe_Bryant|   WAS|  0|  5| 55|  3|LAL|  3|  5|\n",
      "|29-218|  1|  0|2008-03-28|  8| 19|  9|   .529|  17|  .514| 37|  6|  .857|  7|         null|     L (-3)|      39.2|  1|41:52|Kobe_Bryant|   MEM|  2|  4| 53|  3|LAL|  1| 10|\n",
      "|28-114|  8|  1|2006-12-15| 10| 17|  5|   .625|   8|  .447| 38| 14|  .875| 16|         null|    W (+11)|      38.3|  1|54:01|Kobe_Bryant|   HOU|  0|  1| 53|  2|LAL|  5| 10|\n",
      "|28-219|  2|  0|2007-03-30|  1| 19|  3|   .333|   9|  .432| 44| 12|  .857| 14|         null|     L (-3)|      27.6|  1|47:34|Kobe_Bryant|   HOU|  1|  2| 53|  0|LAL|  3|  2|\n",
      "|24-179|  7|  3|2003-02-18|  8| 19|  3|   .333|   9|  .500| 38| 11| 1.000| 11|         null|     W (+7)|      35.8|  1|53:54|Kobe_Bryant|   HOU|  0|  4| 52|  0|LAL|  5|  8|\n",
      "|29-192|  4|  2|2008-03-02| 10| 15|  2|   .667|   3|  .556| 27| 20|  .741| 27|         null|     W (+4)|      39.4|  1|51:24|Kobe_Bryant|   DAL|  1|  2| 52|  1|LAL|  5| 11|\n",
      "|28-099|  3|  1|2006-11-30|  4| 19|  2|   .667|   3|  .731| 26| 12|  .800| 15|         null|    W (+30)|      41.2|  1|34:21|Kobe_Bryant|   UTA|  0|  5| 52|  0|LAL|  1|  4|\n",
      "|24-173|  2|  0|2003-02-12|  3| 15|  3|   .375|   8|  .536| 28| 18|  .900| 20|            @|    W (+11)|      40.5|  1|31:20|Kobe_Bryant|   DEN|  0|  1| 51|  2|LAL|  0|  3|\n",
      "|22-105|  8|  1|2000-12-06|  4| 18|  2|   .286|   7|  .514| 35| 13| 1.000| 13|            @|     L (-3)|      35.7|  1|51:16|Kobe_Bryant|   GSW|  3|  4| 51|  2|LAL|  8|  7|\n",
      "|27-227|  3|  0|2006-04-07|  5| 19|  5|   .455|  11|  .576| 33|  8|  .800| 10|            @|    L (-11)|      36.1|  1|42:16|Kobe_Bryant|   PHO|  0|  3| 51|  1|LAL|  2|  5|\n",
      "|27-149|  4|  0|2006-01-19|  9| 17|  4|   .333|  12|  .486| 35| 13| 1.000| 13|            @|     L (-9)|      35.0|  1|44:07|Kobe_Bryant|   SAC|  0|  2| 51|  1|LAL|  4|  9|\n",
      "|27-137|  8|  0|2006-01-07|  5| 17|  7|   .467|  15|  .415| 41|  9|  .900| 10|            @|     W (+3)|      34.1|  1|45:21|Kobe_Bryant|   LAC|  3|  2| 50|  1|LAL|  3|  8|\n",
      "|27-234|  1|  0|2006-04-14|  5| 17|  5|   .500|  10|  .607| 28| 11|  .786| 14|         null|    W (+11)|      39.3|  1|43:50|Kobe_Bryant|   POR|  1|  4| 50|  5|LAL|  3|  6|\n",
      "|28-212|  1|  1|2007-03-23|  6| 16|  2|   .400|   5|  .552| 29| 16| 1.000| 16|            @|     W (+6)|      38.2|  1|46:52|Kobe_Bryant|   NOK|  1|  2| 50|  0|LAL|  1|  7|\n",
      "|28-232|  1|  0|2007-04-12|  9| 17|  1|   .250|   4|  .515| 33| 15| 1.000| 15|         null|     L (-8)|      34.9|  1|48:00|Kobe_Bryant|   LAC|  0|  3| 50|  2|LAL|  3|  9|\n",
      "|28-235|  3|  0|2007-04-15|  6| 18|  3|   .500|   6|  .720| 25| 11|  .846| 13|         null|    W (+11)|      44.4|  1|42:05|Kobe_Bryant|   SEA|  2|  2| 50|  2|LAL|  1|  8|\n",
      "|28-207|  3|  0|2007-03-18|  5| 17|  4|   .444|   9|  .486| 35| 12|  .857| 14|         null|     W (+7)|      35.4|  1|44:33|Kobe_Bryant|   MIN|  1|  1| 50|  3|LAL|  3|  6|\n",
      "|30-190|  2|  1|2009-03-01|  7| 18|  3|   .333|   9|  .474| 38| 10| 1.000| 10|            @|     L (-7)|      34.6|  1|39:02|Kobe_Bryant|   PHO|  4|  5| 49|  1|LAL|  1| 11|\n",
      "|29-144|  2|  0|2008-01-14|  2| 21|  2|   .250|   8|  .477| 44|  4|  .571|  7|            @|     W (+2)|      26.0|  1|42:12|Kobe_Bryant|   SEA|  0|  1| 48|  1|LAL|  1|  2|\n",
      "|33-140|  3|  0|2012-01-10|  5| 18|  0|   .000|   3|  .581| 31| 12|  .923| 13|         null|    W (+16)|      36.9|  1|39:07|Kobe_Bryant|   PHO|  0|  2| 48|  3|LAL|  2|  5|\n",
      "|27-136|  2|  0|2006-01-06| 10| 19|  7|  1.000|   7|  .655| 29|  3|  .750|  4|         null|    W (+26)|      33.5|  1|35:20|Kobe_Bryant|   PHI|  0|  2| 48|  2|LAL|  7| 10|\n",
      "|26-127|  4|  0|2004-12-28|  2| 14|  4|   .571|   7|  .538| 26| 16|  .889| 18|         null|    W (+18)|      34.2|  1|45:53|Kobe_Bryant|   TOR|  0|  2| 48|  2|LAL|  5|  2|\n",
      "|34-230|  5|  4|2013-04-10|  8| 14|  1|   .200|   5|  .519| 27| 18| 1.000| 18|            @|     W (+7)|      42.8|  1|48:00|Kobe_Bryant|   POR|  0|  4| 47|  3|LAL|  1|  8|\n",
      "|22-160|  3|  1|2001-01-30|  3| 12|  0|   .000|   1|  .462| 26| 23|  .885| 26|            @|     W (+6)|      32.3|  1|40:31|Kobe_Bryant|   CLE|  2|  3| 47|  3|LAL|  7|  5|\n",
      "|28-226|  6|  1|2007-04-06|  4| 13|  1|   .250|   4|  .481| 27| 19|  .792| 24|            @|     W (+3)|      38.3|  1|40:54|Kobe_Bryant|   SEA|  1|  2| 46|  3|LAL|  1|  5|\n",
      "|29-162|  5|  0|2008-02-01|  7| 19|  4|   .500|   8|  .679| 28|  4| 1.000|  4|            @|    W (+20)|      38.8|  1|43:55|Kobe_Bryant|   TOR|  0|  2| 46|  1|LAL|  1|  7|\n",
      "|24-167|  3|  1|2003-02-06|  6| 17|  4|  1.000|   4|  .630| 27|  8|  .727| 11|            @|     W (+5)|      31.7|  1|41:34|Kobe_Bryant|   NYK|  0|  4| 46|  2|LAL|  6|  6|\n",
      "|27-096|  3|  0|2005-11-27|  3| 14|  4|   .333|  12|  .389| 36| 14|  .875| 16|         null|     L (-6)|      23.6|  1|49:31|Kobe_Bryant|   NJN|  0|  5| 46|  2|LAL|  5|  3|\n",
      "|24-086|  4|  1|2002-11-17|  6| 18|  1|   .500|   2|  .486| 37|  9|  .818| 11|         null|     L (-4)|      27.6|  1|44:55|Kobe_Bryant|   HOU|  0|  3| 46|  0|LAL|  3|  6|\n",
      "|29-068|  4|  1|2007-10-30|  8| 13|  1|   .333|   3|  .406| 32| 18|  .667| 27|         null|     L (-2)|      27.5|  1|42:40|Kobe_Bryant|   HOU|  0|  4| 45|  4|LAL|  5|  8|\n",
      "|27-139|  5|  0|2006-01-09|  9| 14|  2|   .333|   6|  .438| 32| 15|  .714| 21|         null|     W (+6)|      30.1|  1|44:50|Kobe_Bryant|   IND|  1|  4| 45|  1|LAL|  2| 10|\n",
      "|27-127|  4|  1|2005-12-28|  5| 13|  4|   .500|   8|  .351| 37| 15|  .789| 19|         null|     L (-1)|      27.1|  1|46:35|Kobe_Bryant|   MEM|  2|  5| 45|  2|LAL|  2|  7|\n",
      "|28-116| 10|  1|2006-12-17|  6| 15|  7|   .636|  11|  .625| 24|  8|  .800| 10|         null|     L (-6)|      39.3|  1|46:47|Kobe_Bryant|   WAS|  2|  5| 45|  1|LAL|  4|  8|\n",
      "|25-234|  8|  2|2004-04-13|  7| 14|  0|   .000|   6|  .483| 29| 17|  .944| 18|         null|     W (+5)|      39.2|  1|43:10|Kobe_Bryant|   GSW|  0|  2| 45|  2|LAL|  1|  7|\n",
      "|24-084|  4|  1|2002-11-15|  4| 18|  1|   .333|   3|  .450| 40|  8|  .800| 10|         null|     W (+7)|      28.9|  1|45:39|Kobe_Bryant|   GSW|  0|  3| 45|  3|LAL|  1|  4|\n",
      "|24-137|  3|  1|2003-01-07|  3| 16| 12|   .667|  18|  .571| 28|  1| 1.000|  1|         null|    W (+21)|      33.7|  1|37:11|Kobe_Bryant|   SEA|  0|  2| 45|  1|LAL|  2|  3|\n",
      "|24-098|  5|  0|2002-11-29|  5| 18|  2|   .500|   4|  .514| 35|  7|  .778|  9|            @|     W (+6)|      29.6|  1|48:08|Kobe_Bryant|   MEM|  1|  0| 45|  2|LAL|  5|  6|\n",
      "|22-120|  3|  0|2000-12-21|  1| 20|  1|  1.000|   1|  .769| 26|  4|  .667|  6|            @|     W (+5)|      38.1|  1|43:52|Kobe_Bryant|   HOU|  3|  1| 45|  1|LAL|  1|  4|\n",
      "|31-162|  3|  0|2010-02-01|  3| 16|  4|   .571|   7|  .571| 28|  8|  .615| 13|            @|     L (-2)|      28.4|  1|40:10|Kobe_Bryant|   MEM|  0|  1| 44|  0|LAL|  3|  3|\n",
      "|24-236|  4|  0|2003-04-16|  5| 16|  3|   .429|   7|  .571| 28|  9|  .900| 10|            @|     W (+6)|      32.0|  1|42:14|Kobe_Bryant|   GSW|  1|  1| 44|  0|LAL|  3|  6|\n",
      "|24-175|  4|  2|2003-02-14|  4| 19|  2|   .667|   3|  .463| 41|  4|  .667|  6|         null|     L (-8)|      25.1|  1|44:53|Kobe_Bryant|   SAS|  2|  2| 44|  4|LAL|  7|  6|\n",
      "|25-134|  3|  0|2004-01-04|  6| 14|  4|   .571|   7|  .519| 27| 12|  .800| 15|            @|     L (-3)|      37.4|  1|39:34|Kobe_Bryant|   LAC|  4|  2| 44|  4|LAL|  2| 10|\n",
      "|22-163|  2|  5|2001-02-02|  5| 15|  0|   .000|   1|  .500| 30| 14| 1.000| 14|         null|     W (+6)|      32.0|  1|48:00|Kobe_Bryant|   CHH|  4|  3| 44|  0|LAL|  5|  9|\n",
      "|36-085|  3|  0|2014-11-16|  4| 15|  3|   .250|  12|  .441| 34| 11|  .688| 16|         null|    L (-21)|      25.0|  1|31:22|Kobe_Bryant|   GSW|  1|  3| 44|  0|LAL|  2|  5|\n",
      "|31-128| 11|  0|2009-12-29|  3| 13|  2|   .333|   6|  .481| 27| 16| 1.000| 16|         null|     W (+6)|      38.8|  1|42:52|Kobe_Bryant|   GSW|  1|  2| 44|  1|LAL|  1|  4|\n",
      "|24-119| 10|  2|2002-12-20|  4| 16|  2|   .400|   5|  .457| 35| 10| 1.000| 10|            @|     L (-3)|      29.9|  1|51:29|Kobe_Bryant|   PHI|  0|  4| 44|  1|LAL|  5|  4|\n",
      "|27-089|  3|  0|2005-11-20|  5| 17|  1|   .250|   4|  .500| 34|  8|  .667| 12|         null|     L (-3)|      26.5|  1|46:06|Kobe_Bryant|   CHI|  1|  3| 43|  2|LAL|  3|  6|\n",
      "|27-111|  2|  1|2005-12-12|  3| 15|  3|   .333|   9|  .455| 33| 10|  .833| 12|            @|     W (+3)|      30.3|  1|43:15|Kobe_Bryant|   DAL|  2|  3| 43|  4|LAL|  2|  5|\n",
      "|27-209|  4|  0|2006-03-20|  3| 18|  0|   .000|   5|  .462| 39|  7|  .700| 10|            @|     W (+8)|      28.6|  1|40:37|Kobe_Bryant|   BOS|  2|  3| 43|  5|LAL|  2|  5|\n",
      "|22-100|  6|  0|2000-12-01|  2| 16|  2|   .500|   4|  .516| 31|  9|  .900| 10|         null|     W (+9)|      29.6|  1|44:39|Kobe_Bryant|   SAS|  1|  3| 43|  1|LAL|  3|  3|\n",
      "|27-195|  3|  0|2006-03-06|  6| 17|  3|   .375|   8|  .531| 32|  6| 1.000|  6|         null|     L (-7)|      28.5|  1|40:56|Kobe_Bryant|   SAS|  0|  2| 43|  0|LAL|  2|  6|\n",
      "|27-213|  2|  0|2006-03-24|  5| 12|  5|   .500|  10|  .462| 26| 14| 1.000| 14|         null|     W (+5)|      27.7|  1|43:37|Kobe_Bryant|   MIL|  0|  2| 43|  0|LAL|  4|  5|\n",
      "|27-220|  4|  1|2006-03-31|  4| 17|  1|   .250|   4|  .447| 38|  8| 1.000|  8|            @|    W (+13)|      22.4|  1|46:03|Kobe_Bryant|   SEA|  1|  3| 43|  1|LAL|  6|  5|\n",
      "|26-211|  4|  0|2005-03-22|  2| 16|  9|   .600|  15|  .615| 26|  2|  .333|  6|            @|     L (-8)|      31.9|  1|44:01|Kobe_Bryant|   UTA|  1|  2| 43|  2|LAL|  3|  3|\n",
      "|28-161|  8|  2|2007-01-31|  7| 13|  7|   .778|   9|  .520| 25| 10|  .769| 13|            @|    W (+13)|      36.5|  1|41:46|Kobe_Bryant|   BOS|  1|  2| 43|  0|LAL|  2|  8|\n",
      "|28-214|  0|  1|2007-03-25|  5| 15|  4|   .364|  11|  .455| 33|  9|  .818| 11|         null|     W (+2)|      23.3|  1|46:22|Kobe_Bryant|   GSW|  4|  2| 43|  1|LAL|  7|  9|\n",
      "|27-222|  6|  0|2006-04-02|  2| 19|  3|   .600|   5|  .594| 32|  2| 1.000|  2|         null|    W (+16)|      31.5|  1|35:57|Kobe_Bryant|   HOU|  1|  3| 43|  1|LAL|  2|  3|\n",
      "|27-236|  5|  0|2006-04-16|  6| 11|  1|   .200|   5|  .393| 28| 20|  .870| 23|         null|    W (+20)|      34.5|  1|38:36|Kobe_Bryant|   PHO|  2|  2| 43|  3|LAL|  1|  8|\n",
      "|34-195| 12|  1|2013-03-06|  7| 14|  3|   .429|   7|  .667| 21| 11|  .786| 14|            @|     W (+6)|      36.9|  1|41:57|Kobe_Bryant|   NOH|  0|  0| 42|  0|LAL|  6|  7|\n",
      "|33-143|  3|  0|2012-01-13|  2| 15|  4|   .571|   7|  .484| 31|  8|  .800| 10|         null|     W (+5)|      26.1|  1|40:48|Kobe_Bryant|   CLE|  3|  3| 42|  3|LAL|  6|  5|\n",
      "|32-211|  9|  0|2011-03-22| 10| 15|  3|   .600|   5|  .484| 31|  9|  .818| 11|         null|     W (+2)|      33.8|  1|48:00|Kobe_Bryant|   PHO|  2|  1| 42|  1|LAL|  3| 12|\n",
      "|33-144|  4|  1|2012-01-14|  7| 14|  2|   .400|   5|  .500| 28| 12|  .857| 14|            @|     L (-8)|      31.6|  1|44:22|Kobe_Bryant|   LAC|  0|  3| 42|  2|LAL|  2|  7|\n",
      "|31-114|  3|  0|2009-12-15|  2| 15|  1|   .200|   5|  .577| 26| 11|  .733| 15|            @|     W (+9)|      25.1|  1|39:06|Kobe_Bryant|   CHI|  0|  2| 42|  3|LAL|  8|  2|\n",
      "|27-192|  5|  0|2006-03-03|  4| 11|  4|   .500|   8|  .379| 29| 16|  .889| 18|            @|    W (+12)|      25.8|  1|41:54|Kobe_Bryant|   GSW|  0|  3| 42|  3|LAL|  6|  4|\n",
      "|24-162|  4|  1|2003-02-01|  3| 12|  2|   .667|   3|  .480| 25| 16|  .889| 18|         null|    W (+12)|      33.5|  1|43:53|Kobe_Bryant|   UTA|  0|  1| 42|  3|LAL|  2|  3|\n",
      "|34-110|  2|  1|2012-12-11|  4| 16|  3|   .333|   9|  .571| 28|  7|  .700| 10|            @|     L (-6)|      27.2|  1|40:43|Kobe_Bryant|   CLE|  1|  1| 42|  1|LAL|  5|  5|\n",
      "|27-226|  1|  0|2006-04-06|  5| 13|  3|   .429|   7|  .406| 32| 13|  .929| 14|            @|     L (-2)|      23.7|  1|45:45|Kobe_Bryant|   DEN|  3|  5| 42|  0|LAL|  3|  8|\n",
      "|26-124|  6|  0|2004-12-25|  3| 12|  5|   .385|  13|  .400| 30| 13| 1.000| 13|         null|     L (-2)|      21.3|  1|49:59|Kobe_Bryant|   MIA|  0|  4| 42|  1|LAL|  9|  3|\n",
      "|24-172|  5|  0|2003-02-11|  2| 12|  1|   .333|   3|  .600| 20| 17|  .810| 21|         null|    W (+28)|      38.3|  1|31:28|Kobe_Bryant|   DEN|  0|  0| 42|  4|LAL|  1|  2|\n",
      "|26-228|  5|  1|2005-04-08|  1| 15|  7|   .636|  11|  .682| 22|  5|  .833|  6|            @|    W (+23)|      35.6|  1|40:06|Kobe_Bryant|   SEA|  1|  2| 42|  2|LAL|  3|  2|\n",
      "|28-134|  9|  0|2007-01-04|  7| 11|  3|   .600|   5|  .524| 21| 17|  .850| 20|            @|     W (+4)|      35.0|  1|48:07|Kobe_Bryant|   SAC|  3|  5| 42|  0|LAL|  4| 10|\n",
      "|27-085|  3|  1|2005-11-16|  2| 15|  0|   .000|   1|  .417| 36| 12|  .857| 14|         null|     W (+5)|      28.3|  1|44:00|Kobe_Bryant|   NYK|  3|  3| 42|  2|LAL|  0|  5|\n",
      "|26-132|  4|  1|2005-01-02|  5| 14|  2|   .333|   6|  .483| 29| 12|  .750| 16|         null|     W (+8)|      25.7|  1|36:23|Kobe_Bryant|   DEN|  0|  5| 42|  4|LAL|  7|  5|\n",
      "|28-152|  1|  1|2007-01-22|  7| 11|  4|   .571|   7|  .500| 22| 16|  .842| 19|         null|     W (+5)|      30.6|  1|38:52|Kobe_Bryant|   GSW|  1|  1| 42|  2|LAL|  5|  8|\n",
      "|29-181|  3|  2|2008-02-20|  4| 16|  1|   .500|   2|  .640| 25|  8|  .800| 10|            @|     W (+6)|      30.3|  1|45:44|Kobe_Bryant|   PHO|  1|  3| 41|  2|LAL|  5|  5|\n",
      "|31-070|  3|  0|2009-11-01|  5| 15|  1|   .500|   2|  .517| 29| 10|  .909| 11|         null|     W (+8)|      32.4|  1|37:38|Kobe_Bryant|   ATL|  3|  4| 41|  5|LAL|  3|  8|\n",
      "|30-119|  3|  0|2008-12-20|  6| 14|  2|   .667|   3|  .452| 31| 11| 1.000| 11|            @|     L (-3)|      28.0|  1|42:35|Kobe_Bryant|   ORL|  2|  3| 41|  0|LAL|  1|  8|\n",
      "|27-141|  3|  0|2006-01-11|  2| 13|  3|   .231|  13|  .448| 29| 12|  .923| 13|            @|    L (-10)|      28.2|  1|44:28|Kobe_Bryant|   POR|  0|  5| 41|  4|LAL|  2|  2|\n",
      "|27-115|  4|  1|2005-12-16|  6| 14|  2|   .667|   3|  .583| 24| 11|  .786| 14|         null|     W (+6)|      33.3|  1|36:54|Kobe_Bryant|   WAS|  2|  5| 41|  1|LAL|  1|  8|\n",
      "|32-097|  4|  0|2010-11-28|  3| 14|  3|   .375|   8|  .424| 33| 10|  .769| 13|         null|     L (-3)|      23.6|  1|39:50|Kobe_Bryant|   IND|  2|  2| 41|  0|LAL|  3|  5|\n",
      "|31-073|  4|  0|2009-11-04|  5| 15|  0|   .000|   3|  .500| 30| 11|  .733| 15|            @|     W (+1)|      30.6|  1|48:29|Kobe_Bryant|   HOU|  1|  2| 41|  4|LAL|  2|  6|\n",
      "|24-184|  3|  0|2003-02-23|  4| 13|  1|   .167|   6|  .382| 34| 14|  .875| 16|         null|     W (+5)|      24.8|  1|41:57|Kobe_Bryant|   SEA|  1|  2| 41|  3|LAL|  3|  5|\n",
      "|32-160|  0|  0|2011-01-30|  3| 16|  3|   .600|   5|  .552| 29|  6|  .857|  7|         null|    L (-13)|      23.6|  1|38:18|Kobe_Bryant|   BOS|  0|  5| 41|  0|LAL|  2|  3|\n",
      "|26-197|  3|  1|2005-03-08|  3| 12|  1|   .333|   3|  .571| 21| 16| 1.000| 16|         null|     L (-9)|      32.0|  1|42:45|Kobe_Bryant|   LAC|  2|  3| 41|  0|LAL|  3|  5|\n",
      "|31-075|  1|  0|2009-11-06|  3| 19|  0|   null|   0|  .633| 30|  3|  .750|  4|         null|    W (+16)|      29.7|  1|33:39|Kobe_Bryant|   MEM|  1|  2| 41|  1|LAL|  0|  4|\n",
      "|34-197| 12|  0|2013-03-08|  5| 11|  5|   .500|  10|  .500| 22| 14|  .875| 16|         null|     W (+2)|      32.8|  1|43:47|Kobe_Bryant|   TOR|  1|  0| 41|  2|LAL|  9|  6|\n",
      "|26-081|  8|  0|2004-11-12|  7| 14|  2|   .250|   8|  .452| 31| 11|  .917| 12|            @|     L (-9)|      31.6|  1|43:53|Kobe_Bryant|   ORL|  0|  4| 41|  2|LAL|  1|  7|\n",
      "|24-076|  4|  0|2002-11-07|  7| 17|  0|   .000|   8|  .362| 47|  7| 1.000|  7|            @|     L (-3)|      19.0|  1|46:24|Kobe_Bryant|   BOS|  2|  3| 41|  4|LAL|  5|  9|\n",
      "|29-155|  5|  1|2008-01-25| 10| 11|  1|   .333|   3|  .579| 19| 17|  .810| 21|            @|     L (-7)|      33.1|  1|44:56|Kobe_Bryant|   DAL|  0|  4| 40|  1|LAL|  3| 10|\n",
      "|34-096|  3|  0|2012-11-27| 10| 12|  5|   .455|  11|  .429| 28| 11|  .846| 13|         null|     L (-2)|      21.7|  1|43:44|Kobe_Bryant|   IND|  0|  2| 40|  3|LAL| 10| 10|\n",
      "|28-090|  5|  0|2006-11-21|  3| 12|  1|  1.000|   1|  .522| 23| 15|  .833| 18|         null|     W (+4)|      33.7|  1|38:20|Kobe_Bryant|   LAC|  2|  4| 40|  3|LAL|  1|  5|\n",
      "|30-132|  4|  1|2009-01-02|  4| 13|  2|   .667|   3|  .565| 23| 12|  .857| 14|         null|    W (+13)|      33.9|  1|38:07|Kobe_Bryant|   UTA|  3|  3| 40|  2|LAL|  2|  7|\n",
      "+------+---+---+----------+---+---+---+-------+----+------+---+---+------+---+-------------+-----------+----------+---+-----+-----------+------+---+---+---+---+---+---+---+\n",
      "only showing top 100 rows\n",
      "\n"
     ]
    }
   ],
   "source": [
    "from pyspark.sql.functions import desc, asc\n",
    "from pyspark.sql.types import IntegerType\n",
    "df = df.withColumn(\"pts\",df.pts.cast(IntegerType()))\n",
    "df.sort(desc('pts')).show(100)"
   ]
  },
  {
   "cell_type": "markdown",
   "id": "d2c56fed-f116-4493-8525-0c0fb5274727",
   "metadata": {},
   "source": [
    "# Get average PTS"
   ]
  },
  {
   "cell_type": "code",
   "execution_count": 28,
   "id": "85b37fda-6a0a-48a0-98fc-22de9109cb2d",
   "metadata": {},
   "outputs": [
    {
     "name": "stdout",
     "output_type": "stream",
     "text": [
      "+------------------+\n",
      "|          avg(pts)|\n",
      "+------------------+\n",
      "|24.994799405646358|\n",
      "+------------------+\n",
      "\n"
     ]
    }
   ],
   "source": [
    "from pyspark.sql.functions import avg\n",
    "df.select(avg('pts')).show()"
   ]
  },
  {
   "cell_type": "markdown",
   "id": "a60f1610-e550-4073-83a2-1f6535d28c89",
   "metadata": {},
   "source": [
    "# Count number of games with non-null STL"
   ]
  },
  {
   "cell_type": "code",
   "execution_count": 35,
   "id": "9b9439a3-a1e3-47fd-872a-1746f638902b",
   "metadata": {},
   "outputs": [
    {
     "name": "stdout",
     "output_type": "stream",
     "text": [
      "+----------+\n",
      "|count(stl)|\n",
      "+----------+\n",
      "|      1346|\n",
      "+----------+\n",
      "\n"
     ]
    }
   ],
   "source": [
    "from pyspark.sql.functions import count\n",
    "df.select(count('stl')).show()"
   ]
  },
  {
   "cell_type": "code",
   "execution_count": null,
   "id": "329d1134-2254-4b9e-9c0e-f6b3dbba4859",
   "metadata": {},
   "outputs": [],
   "source": []
  }
 ],
 "metadata": {
  "kernelspec": {
   "display_name": "Python 3 (ipykernel)",
   "language": "python",
   "name": "python3"
  },
  "language_info": {
   "codemirror_mode": {
    "name": "ipython",
    "version": 3
   },
   "file_extension": ".py",
   "mimetype": "text/x-python",
   "name": "python",
   "nbconvert_exporter": "python",
   "pygments_lexer": "ipython3",
   "version": "3.10.6"
  }
 },
 "nbformat": 4,
 "nbformat_minor": 5
}
